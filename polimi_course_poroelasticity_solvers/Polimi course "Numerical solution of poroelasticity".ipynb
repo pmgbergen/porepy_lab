{
 "cells": [
  {
   "cell_type": "markdown",
   "metadata": {},
   "source": [
    "# Splitting solvers for Biot's equations"
   ]
  },
  {
   "cell_type": "markdown",
   "metadata": {},
   "source": [
    "## Recap the block structure of the problem\n",
    "\n",
    "Biot's equations couple elasticity and fluid flow equations. There is various formulations for the coupled problem. In PorePy Biot's equations are discretized by the finite volume method applied to the two-field formulation. The corresponding unknown fields are the displacement $\\mathbf{u}$ and the fluid pressure $p$.\n",
    "\n",
    "The two-field formulation of Biot's equations reads: Find $\\mathbf{u}$ and $p$ satisfying in $\\Omega$ \n",
    "\\begin{align}\n",
    "-\\mathbf{\\nabla} \\cdot \\left( 2\\mu \\mathbf{\\varepsilon}(\\mathbf{u}) + \\lambda \\mathrm{Tr}\\,\\mathbf{\\varepsilon}(\\mathbf{u})\\, \\mathbf{I} - \\alpha p \\mathbf{I}\\right) &= \\mathbf{b} \\\\\n",
    "s_0\\partial_t p + \\alpha \\partial_t \\mathrm{Tr}\\,\\mathbf{\\varepsilon}(\\mathbf{u}) + \\mathbf{\\nabla} \\cdot (-\\mathbf{K} \\mathbf{\\nabla} p) &= \\psi,\n",
    "\\end{align}\n",
    "at initial time $t=0$\n",
    "\\begin{alignat}{2}\n",
    "\\mathbf{u} &= \\mathbf{u}_0  \\\\\n",
    "p &= p_0,\n",
    "\\end{alignat}\n",
    "and on the boundary $\\partial \\Omega$\n",
    "\\begin{alignat}{2}\n",
    "\\mathbf{u} &= \\mathbf{u}_\\mathrm{D} &\\quad&\\text{on }\\Gamma_\\mathrm{u,D}\\\\\n",
    "\\left(2\\mu \\mathbf{\\varepsilon}(\\mathbf{u}) + \\lambda \\mathrm{Tr}\\,\\mathbf{\\varepsilon}(\\mathbf{u})\\, \\mathbf{I} - \\alpha p \\mathbf{I}\\right)\\cdot \\mathbf{n} &= \\mathbf{\\sigma}_\\mathrm{N} &\\quad&\\text{on }\\Gamma_\\mathrm{u,N}\\\\\n",
    "\\mathbf{p} &= \\mathbf{p}_\\mathrm{D} &\\quad&\\text{on }\\Gamma_\\mathrm{p,D}\\\\\n",
    "\\left(-\\mathbf{K}\\mathbf{\\nabla}p \\right) \\cdot \\mathbf{n} &= \\mathbf{\\sigma}_\\mathrm{N} &\\quad&\\text{on }\\Gamma_\\mathrm{p,N}\n",
    "\\end{alignat}\n",
    "for two partitions $\\bar{\\Gamma}_\\mathrm{u,D} \\cup \\bar{\\Gamma}_\\mathrm{u,N}=\\bar{\\Gamma}_\\mathrm{p,D} \\cup \\bar{\\Gamma}_\\mathrm{p,N}=\\partial\\Omega$.\n",
    "\n",
    "After finite volume discretization, using MPSA for elasticity and MPFA for flow, with cell-centered displacements and pressures as primary degrees of freedom, we obtain al algebraic problem with natural block structure\n",
    "\\begin{align}\n",
    "\\begin{bmatrix} \\mathbf{A} & -\\mathbf{B}^\\top \\\\ \\mathbf{B} & \\mathbf{C} \\end{bmatrix} \n",
    "\\begin{bmatrix} \\mathbf{u} \\\\ \\mathbf{p} \\end{bmatrix} \n",
    "= \\begin{bmatrix} \\mathbf{f} \\\\ \\mathbf{g} \\end{bmatrix}\n",
    "\\end{align}"
   ]
  },
  {
   "cell_type": "markdown",
   "metadata": {},
   "source": [
    "## Setting up a footing problem in PorePy\n",
    "\n",
    "We consider a unit square in 2D. We fix its displacement and apply no flow condition on the bottom boundary. In addition, we apply a force to the top boundary, but only half of it at the center of the boundary. Here, also no flow boundary conditions are applied. The remaining boundary conditions are zero stress and zero pressure boundary conditions.\n"
   ]
  },
  {
   "cell_type": "markdown",
   "metadata": {},
   "source": [
    "We will require some standard packages."
   ]
  },
  {
   "cell_type": "code",
   "execution_count": 1,
   "metadata": {},
   "outputs": [
    {
     "name": "stderr",
     "output_type": "stream",
     "text": [
      "In /home/jakub/anaconda3/lib/python3.7/site-packages/matplotlib/mpl-data/stylelib/_classic_test.mplstyle: \n",
      "The text.latex.preview rcparam was deprecated in Matplotlib 3.3 and will be removed two minor releases later.\n",
      "In /home/jakub/anaconda3/lib/python3.7/site-packages/matplotlib/mpl-data/stylelib/_classic_test.mplstyle: \n",
      "The mathtext.fallback_to_cm rcparam was deprecated in Matplotlib 3.3 and will be removed two minor releases later.\n",
      "In /home/jakub/anaconda3/lib/python3.7/site-packages/matplotlib/mpl-data/stylelib/_classic_test.mplstyle: Support for setting the 'mathtext.fallback_to_cm' rcParam is deprecated since 3.3 and will be removed two minor releases later; use 'mathtext.fallback : 'cm' instead.\n",
      "In /home/jakub/anaconda3/lib/python3.7/site-packages/matplotlib/mpl-data/stylelib/_classic_test.mplstyle: \n",
      "The validate_bool_maybe_none function was deprecated in Matplotlib 3.3 and will be removed two minor releases later.\n",
      "In /home/jakub/anaconda3/lib/python3.7/site-packages/matplotlib/mpl-data/stylelib/_classic_test.mplstyle: \n",
      "The savefig.jpeg_quality rcparam was deprecated in Matplotlib 3.3 and will be removed two minor releases later.\n",
      "In /home/jakub/anaconda3/lib/python3.7/site-packages/matplotlib/mpl-data/stylelib/_classic_test.mplstyle: \n",
      "The keymap.all_axes rcparam was deprecated in Matplotlib 3.3 and will be removed two minor releases later.\n",
      "In /home/jakub/anaconda3/lib/python3.7/site-packages/matplotlib/mpl-data/stylelib/_classic_test.mplstyle: \n",
      "The animation.avconv_path rcparam was deprecated in Matplotlib 3.3 and will be removed two minor releases later.\n",
      "In /home/jakub/anaconda3/lib/python3.7/site-packages/matplotlib/mpl-data/stylelib/_classic_test.mplstyle: \n",
      "The animation.avconv_args rcparam was deprecated in Matplotlib 3.3 and will be removed two minor releases later.\n"
     ]
    }
   ],
   "source": [
    "import numpy as np\n",
    "import porepy as pp\n",
    "import scipy.sparse as sps"
   ]
  },
  {
   "cell_type": "markdown",
   "metadata": {},
   "source": [
    "Define problem parameters. In particular, define the material parameters $\\mu = \\text{lame_mu}$, $\\lambda = \\texttt{lame_lambda}$, $K = \\texttt{kappa}$ (actually a tensor), $s_0 = \\texttt{s0}$, and $\\alpha = \\texttt{alpha}$. In addition, we can choose discretization parameters for the mesh resolution and time step size."
   ]
  },
  {
   "cell_type": "code",
   "execution_count": 2,
   "metadata": {},
   "outputs": [],
   "source": [
    "model_params = {\n",
    "        # DO NOT CHANGE THESE:\n",
    "        \"file_name\" : \"poroelasticity\",   # exporter\n",
    "        \"folder_name\" : \"out\",  # expoter\n",
    "        \"use_ad\" : True,\n",
    "        # FEEL FREE TO CHANGE ANY OF THOSE:\n",
    "        \"lame_mu\": 1e8,\n",
    "        \"lame_lambda\": 1e7,\n",
    "        \"force\": -1e6,\n",
    "        \"kappa\": 1e-12,\n",
    "        \"s0\": 0.5e-7, # * 0.07, 0.17, *0.19, *2\n",
    "        \"alpha\": 1.,\n",
    "        \"mesh_resolution\": 80,\n",
    "        \"time_step\": 0.25,\n",
    "        \"fixed_stress_L\": 1, #0.9,\n",
    "        \"aa_depth\": 0, #5\n",
    "        }"
   ]
  },
  {
   "cell_type": "markdown",
   "metadata": {},
   "source": [
    "Now we simply define the footing problem (external module) for given model parameters, including all boundary conditions, source terms etc.; we also run an preparation routine defining the grid, assign equations and initialize algebraic data structures."
   ]
  },
  {
   "cell_type": "code",
   "execution_count": 3,
   "metadata": {},
   "outputs": [],
   "source": [
    "from footingproblem_model import FootingProblem\n",
    "model = FootingProblem(model_params)\n",
    "model.prepare_simulation()"
   ]
  },
  {
   "cell_type": "markdown",
   "metadata": {},
   "source": [
    "Now we need to solve the problem. We consider the three approaches: monolithic, straight-forward Block-Gauss Seidel, and stabilized Block-Gauss Seidel."
   ]
  },
  {
   "cell_type": "markdown",
   "metadata": {},
   "source": [
    "## Monolithic solution\n",
    "The problem is linear, and we use direct solvers. Nevertheless, models in PorePy are currently implemented as general nonlinear models, providing Jacobians and residuals when assembling. Hence, we use the approach Newton's method here, to solve the problem. It will converge in 1 iteration.\n",
    "\n",
    "To recall, in incremental form, iteration $i$ reads: Given $\\mathbf{u}^{i-1}$ and $p^{i-1}$, find $\\mathbf{u}^i := \\mathbf{u}^{i-1} + \\Delta \\mathbf{u}^i$ and $p^i := p^{i-1} + \\Delta p^{i}$ with the increments satisfying\n",
    "\n",
    "\\begin{align}\n",
    "\\begin{bmatrix} \\mathbf{A} & -\\mathbf{B}^\\top \\\\ \\mathbf{B} & \\mathbf{C} \\end{bmatrix} \n",
    "\\begin{bmatrix} \\Delta \\mathbf{u}^i \\\\ \\Delta \\mathbf{p}^i \\end{bmatrix} \n",
    "= \\begin{bmatrix} \\mathbf{f} \\\\ \\mathbf{g} \\end{bmatrix} - \\begin{bmatrix} \\mathbf{A} & -\\mathbf{B}^\\top \\\\ \\mathbf{B} & \\mathbf{C} \\end{bmatrix} \n",
    "\\begin{bmatrix} \\mathbf{u}^{i-1} \\\\ \\mathbf{p}^{i-1} \\end{bmatrix} \n",
    "\\end{align}\n",
    "\n",
    "So on the right hand side, we have the standard residual, while the left hand side we use the exact Jacobian."
   ]
  },
  {
   "cell_type": "markdown",
   "metadata": {},
   "source": [
    "Let's setup the algebraic structures required for increments and residuals."
   ]
  },
  {
   "cell_type": "code",
   "execution_count": 4,
   "metadata": {},
   "outputs": [],
   "source": [
    "num_dofs = model.num_dofs()\n",
    "increment = np.zeros(num_dofs)\n",
    "residual = np.zeros(num_dofs)"
   ]
  },
  {
   "cell_type": "markdown",
   "metadata": {},
   "source": [
    "Next, we introduce some auxiliary variables to be used in the solver strategy and construct the data structures, to be used in the later solution process."
   ]
  },
  {
   "cell_type": "code",
   "execution_count": 5,
   "metadata": {},
   "outputs": [],
   "source": [
    "first_call = True\n",
    "time_step = 0"
   ]
  },
  {
   "cell_type": "markdown",
   "metadata": {},
   "source": [
    "The time loop and iterative solver loop."
   ]
  },
  {
   "cell_type": "code",
   "execution_count": 6,
   "metadata": {},
   "outputs": [
    {
     "name": "stdout",
     "output_type": "stream",
     "text": [
      "+=====================================+\n",
      "Time step 1:\n"
     ]
    },
    {
     "name": "stderr",
     "output_type": "stream",
     "text": [
      "/home/jakub/anaconda3/lib/python3.7/site-packages/scipy/sparse/linalg/dsolve/linsolve.py:318: SparseEfficiencyWarning: splu requires CSC matrix format\n",
      "  warn('splu requires CSC matrix format', SparseEfficiencyWarning)\n"
     ]
    },
    {
     "name": "stdout",
     "output_type": "stream",
     "text": [
      "Iter. 1 | Residual 79057.50171297793\n",
      "Iter. 2 | Residual 1.0368555704874683e-07\n",
      "+=====================================+\n",
      "\n",
      "+=====================================+\n",
      "Time step 2:\n",
      "Iter. 1 | Residual 1.714936351511903e-07\n",
      "+=====================================+\n",
      "\n",
      "+=====================================+\n",
      "Time step 3:\n",
      "Iter. 1 | Residual 1.5859813165787892e-07\n",
      "+=====================================+\n",
      "\n",
      "+=====================================+\n",
      "Time step 4:\n",
      "Iter. 1 | Residual 1.4690874753113663e-07\n",
      "+=====================================+\n",
      "\n"
     ]
    }
   ],
   "source": [
    "while model.time < model.end_time:\n",
    "    # Time management\n",
    "    time_step += 1\n",
    "    model.time += model.time_step\n",
    "\n",
    "    print(f\"+=====================================+\\nTime step {time_step}:\") \n",
    "\n",
    "    # Newton loop\n",
    "    model.before_newton_loop()\n",
    "    while model.convergence_status == False:\n",
    "\n",
    "        # Empty method, but include for completeness\n",
    "        model.before_newton_iteration()\n",
    "\n",
    "        # Set up the Jacobian and factorize it - only in the first iteration.\n",
    "        if first_call:\n",
    "            mat, _ = model.assemble_linear_system()\n",
    "            mat_splu = sps.linalg.splu(mat)\n",
    "            first_call = False\n",
    "            \n",
    "        # Assemble the residual\n",
    "        _, residual = model.assemble_linear_system()\n",
    "        \n",
    "        # Compute the increment by performing one Newton step\n",
    "        increment = mat_splu.solve(residual)\n",
    "        \n",
    "        # Distribute the increment\n",
    "        model.distribute_solution(increment)\n",
    "\n",
    "        # Manage the iteration (accumulate to determine the solution),\n",
    "        # and monitor convergence. Stop, if residual is below tolerance\n",
    "        is_converged = model.after_newton_iteration(increment, residual, tol=1e-6)\n",
    "        \n",
    "        # Export solution\n",
    "        if is_converged:\n",
    "            model.after_newton_convergence()\n",
    "            model.export(time_step)\n",
    "\n",
    "    print(f\"+=====================================+\\n\")"
   ]
  },
  {
   "cell_type": "markdown",
   "metadata": {},
   "source": [
    "The solution (for the initial parameters) should look something like this (you see the geometry warped by the displacement and the colouring corresponds to the pressure)."
   ]
  },
  {
   "cell_type": "markdown",
   "metadata": {},
   "source": [
    "![title](out/warped-pressure-cut2.png)"
   ]
  },
  {
   "cell_type": "markdown",
   "metadata": {},
   "source": [
    "## Fixed strain - the naive Block-Gauss Seidel approach\n",
    "We investigate block-structured solver strategies for Biot's equations and start with the straigh-forward Block-Gauss Seidel approach. (Recall: this solver is only conditionally stable.) The idea of the solver is to simply decouple the elasticity and fluid flow equations and solve the successively until (possible) convergence.\n",
    "\n",
    "To recall, in incremental form, iteration $i$ reads: Given $\\mathbf{u}^{i-1}$ and $p^{i-1}$, find $\\mathbf{u}^i := \\mathbf{u}^{i-1} + \\Delta \\mathbf{u}^i$ and $p^i := p^{i-1} + \\Delta p^{i}$ with the increments satisfying\n",
    "\n",
    "\\begin{align}\n",
    "\\begin{bmatrix} \\mathbf{A} & -\\mathbf{B}^\\top \\\\ \\mathbf{0} & \\mathbf{C} \\end{bmatrix} \n",
    "\\begin{bmatrix} \\Delta \\mathbf{u}^i \\\\ \\Delta \\mathbf{p}^i \\end{bmatrix} \n",
    "= \\begin{bmatrix} \\mathbf{f} \\\\ \\mathbf{g} \\end{bmatrix} - \\begin{bmatrix} \\mathbf{A} & -\\mathbf{B}^\\top \\\\ \\mathbf{B} & \\mathbf{C} \\end{bmatrix} \n",
    "\\begin{bmatrix} \\mathbf{u}^{i-1} \\\\ \\mathbf{p}^{i-1} \\end{bmatrix} \n",
    "\\end{align}\n",
    "\n",
    "So on the right hand side, we have the standard residual, while the left hand side is an inexact linearization, with the inexact Jacobian given by a block triangular matrix."
   ]
  },
  {
   "cell_type": "markdown",
   "metadata": {},
   "source": [
    "## Task 1 - Understanding the fixed-strain split\n",
    "Understand the following implementation fixed-strain splitting scheme. The fixed-strain solver has a similar structure to the monolithic solver. Remember, we only need to change the definition of the Jacobian (or more explicitly, how to solve the block triangular system). Tip 1: Search for \"NEW\". Tip 2: If you want to stop the solver, press on the \"Stop\" symbol on the top panel."
   ]
  },
  {
   "cell_type": "code",
   "execution_count": 7,
   "metadata": {},
   "outputs": [
    {
     "name": "stdout",
     "output_type": "stream",
     "text": [
      "+=====================================+\n",
      "Time step 1:\n"
     ]
    },
    {
     "name": "stderr",
     "output_type": "stream",
     "text": [
      "/home/jakub/anaconda3/lib/python3.7/site-packages/scipy/sparse/linalg/dsolve/linsolve.py:318: SparseEfficiencyWarning: splu requires CSC matrix format\n",
      "  warn('splu requires CSC matrix format', SparseEfficiencyWarning)\n"
     ]
    },
    {
     "name": "stdout",
     "output_type": "stream",
     "text": [
      "Iter. 1 | Residual 79057.50171297793\n",
      "Iter. 2 | Residual 10671.223938131723\n",
      "Iter. 3 | Residual 1830.2795276386619\n",
      "Iter. 4 | Residual 321.66348612270866\n",
      "Iter. 5 | Residual 56.91695963833022\n",
      "Iter. 6 | Residual 10.097161212681986\n",
      "Iter. 7 | Residual 1.7934462604921455\n",
      "Iter. 8 | Residual 0.31878657630652374\n",
      "Iter. 9 | Residual 0.056696077809706494\n",
      "Iter. 10 | Residual 0.01008814045881258\n",
      "Iter. 11 | Residual 0.0017957842184834624\n",
      "Iter. 12 | Residual 0.0003197921309873358\n",
      "Iter. 13 | Residual 5.696916966309765e-05\n",
      "Iter. 14 | Residual 1.01522054180851e-05\n",
      "Iter. 15 | Residual 1.8097461760261314e-06\n",
      "Iter. 16 | Residual 3.226812440488982e-07\n",
      "+=====================================+\n",
      "\n",
      "+=====================================+\n",
      "Time step 2:\n",
      "Iter. 1 | Residual 165.9146700718482\n",
      "Iter. 2 | Residual 7.774657707021434\n",
      "Iter. 3 | Residual 0.6348864867378158\n",
      "Iter. 4 | Residual 0.07174177824543254\n",
      "Iter. 5 | Residual 0.009823137892756966\n",
      "Iter. 6 | Residual 0.0014881078532102325\n",
      "Iter. 7 | Residual 0.0002376625709203549\n",
      "Iter. 8 | Residual 3.908209182073527e-05\n",
      "Iter. 9 | Residual 6.538940933198989e-06\n",
      "Iter. 10 | Residual 1.1060407215373637e-06\n",
      "Iter. 11 | Residual 1.885612360537794e-07\n",
      "+=====================================+\n",
      "\n",
      "+=====================================+\n",
      "Time step 3:\n",
      "Iter. 1 | Residual 155.5394166526226\n",
      "Iter. 2 | Residual 7.452324967461714\n",
      "Iter. 3 | Residual 0.6151191756192326\n",
      "Iter. 4 | Residual 0.06982739187684214\n",
      "Iter. 5 | Residual 0.009567813519064137\n",
      "Iter. 6 | Residual 0.0014479441374645695\n",
      "Iter. 7 | Residual 0.00023089947800542448\n",
      "Iter. 8 | Residual 3.79139106397929e-05\n",
      "Iter. 9 | Residual 6.335435211151769e-06\n",
      "Iter. 10 | Residual 1.0705269220742454e-06\n",
      "Iter. 11 | Residual 1.8235249506417578e-07\n",
      "+=====================================+\n",
      "\n",
      "+=====================================+\n",
      "Time step 4:\n",
      "Iter. 1 | Residual 146.0054728457058\n",
      "Iter. 2 | Residual 7.150972198166949\n",
      "Iter. 3 | Residual 0.5965320366247033\n",
      "Iter. 4 | Residual 0.06803147461075619\n",
      "Iter. 5 | Residual 0.009329644930941695\n",
      "Iter. 6 | Residual 0.0014106524382695778\n",
      "Iter. 7 | Residual 0.00022463665680556234\n",
      "Iter. 8 | Residual 3.683333831863604e-05\n",
      "Iter. 9 | Residual 6.147204771592941e-06\n",
      "Iter. 10 | Residual 1.0376936074407576e-06\n",
      "Iter. 11 | Residual 1.766252824749521e-07\n",
      "+=====================================+\n",
      "\n"
     ]
    }
   ],
   "source": [
    "# Reset the model\n",
    "model = FootingProblem(model_params)\n",
    "model.prepare_simulation()\n",
    "first_call = True\n",
    "time_step = 0\n",
    "num_dofs = model.num_dofs()\n",
    "increment = np.zeros(num_dofs)\n",
    "residual = np.zeros(num_dofs)\n",
    "\n",
    "while model.time < model.end_time:\n",
    "    # Time management\n",
    "    time_step += 1\n",
    "    model.time += model.time_step\n",
    "\n",
    "    print(f\"+=====================================+\\nTime step {time_step}:\") \n",
    "\n",
    "    # Newton loop\n",
    "    model.before_newton_loop()\n",
    "    while model.convergence_status == False:\n",
    "\n",
    "        # Empty method, but include for completeness\n",
    "        model.before_newton_iteration()\n",
    "\n",
    "        ###########################################################\n",
    "        \n",
    "        # NEW: Fixed strain approximation\n",
    "        \n",
    "        # Set up the Jacobians of the two subproblems and factorize\n",
    "        # them - only in the first iteration.\n",
    "        if first_call:\n",
    "            A, _ = model.assemble_linear_mechanics_system()\n",
    "            C, _ = model.assemble_linear_flow_system()\n",
    "            A_splu = sps.linalg.splu(A)\n",
    "            C_splu = sps.linalg.splu(C)\n",
    "            first_call = False\n",
    "        \n",
    "        # Require global dof number to address u and p separately\n",
    "        u_dofs = model.displacement_dofs()\n",
    "        p_dofs = model.pressure_dofs()\n",
    "\n",
    "        # 1. Step: Solve the flow problem for given displacement\n",
    "        _, residual[p_dofs] = model.assemble_linear_flow_system()\n",
    "        increment[p_dofs] = C_splu.solve(residual[p_dofs])\n",
    "        model.distribute_solution(increment, variables=[\"p\"])\n",
    "        \n",
    "        # 2. Step: Solve the mechanics problem for updated pressre\n",
    "        _, residual[u_dofs] = model.assemble_linear_mechanics_system()\n",
    "        increment[u_dofs] = A_splu.solve(residual[u_dofs])\n",
    "        model.distribute_solution(increment, variables=[\"u\"])\n",
    "        \n",
    "        ###########################################################\n",
    "        \n",
    "        # Manage the iteration (accumulate to determine the solution),\n",
    "        # and monitor convergence. Stop, if residual is below tolerance\n",
    "        is_converged = model.after_newton_iteration(increment, residual, tol=1e-6)\n",
    "        \n",
    "        # Export solution\n",
    "        if is_converged:\n",
    "            model.after_newton_convergence()\n",
    "            model.export(time_step)\n",
    "\n",
    "    print(f\"+=====================================+\\n\")"
   ]
  },
  {
   "cell_type": "markdown",
   "metadata": {},
   "source": [
    "## Task 2 - Correlate coupling strength with the conditional robustness of fixed-strain\n",
    "Check the coupling strength $\\tau = \\frac{\\alpha^2}{s_0 K_\\mathrm{dr}}$ of Biot's equations for the given material parameters. Use the following pre-defined routine for this."
   ]
  },
  {
   "cell_type": "code",
   "execution_count": 15,
   "metadata": {},
   "outputs": [
    {
     "name": "stdout",
     "output_type": "stream",
     "text": [
      "The coupling strength is 0.18181818181818182.\n"
     ]
    }
   ],
   "source": [
    "def coupling_strength(params) -> float:\n",
    "\n",
    "    Kdr = params[\"lame_lambda\"] + 2 * params[\"lame_mu\"] / 2.\n",
    "    alpha = params[\"alpha\"]\n",
    "    s0 = params[\"s0\"]\n",
    "    s0inv = 1. / s0 if s0 > 1e-17 else float('inf')\n",
    "    return alpha**2 / Kdr * s0inv\n",
    "\n",
    "tau = coupling_strength(model_params)\n",
    "print(f\"The coupling strength is {tau}.\")"
   ]
  },
  {
   "cell_type": "markdown",
   "metadata": {},
   "source": [
    "Go back to the problem parameters. Choose them such they result in a coupling strength below, equal, and greater than 1. Check again the performance of the solver. For instance, multiply $\\texttt{s0}$ with 0.17, 0.19, and 2."
   ]
  },
  {
   "cell_type": "markdown",
   "metadata": {},
   "source": [
    "## Fixed-stress split - A stabilized Block-Gauss Seidel solver\n",
    "We have learned that for problems with saddle point structure, we require a good approximation of the Schur complement, in order for block-triangular approximations of the Jacobian to result in robust solvers. The exact Schur complement $\\mathbf{S} = \\mathbf{B}\\mathbf{A}^{-1}\\mathbf{B}$ for the Biot equations is spectrally equivalent with the pressure mass matrix $\\mathbf{M}$. Thus, we can stabilize $\\mathbf{C}$ in the fixed-strain split by a pressure mass matrix, scaled by $\\frac{\\alpha^2}{K_\\mathrm{dr}}$ multiplied with a tuning factor $L$, resulting in $\\hat{\\mathbf{S}} = L\\, \\frac{\\alpha^2}{K_\\mathrm{dr}}\\, \\mathbf{M}$.\n",
    "\n",
    "Iteration $i$ of the  stabilized Block-Gauss Seidel reads then: Given $\\mathbf{u}^{i-1}$ and $p^{i-1}$, find $\\mathbf{u}^i := \\mathbf{u}^{i-1} + \\Delta \\mathbf{u}^i$ and $p^i := p^{i-1} + \\Delta p^{i}$ with the increments satisfying\n",
    "\n",
    "\\begin{align}\n",
    "\\begin{bmatrix} \\mathbf{A} & -\\mathbf{B}^\\top \\\\ \\mathbf{0} & \\mathbf{C} + \\hat{\\mathbf{S}}  \\end{bmatrix} \n",
    "\\begin{bmatrix} \\Delta \\mathbf{u}^i \\\\ \\Delta \\mathbf{p}^i \\end{bmatrix} \n",
    "= \\begin{bmatrix} \\mathbf{f} \\\\ \\mathbf{g} \\end{bmatrix} - \\begin{bmatrix} \\mathbf{A} & -\\mathbf{B}^\\top \\\\ \\mathbf{B} & \\mathbf{C} \\end{bmatrix} \n",
    "\\begin{bmatrix} \\mathbf{u}^{i-1} \\\\ \\mathbf{p}^{i-1} \\end{bmatrix} \n",
    "\\end{align}\n",
    "\n"
   ]
  },
  {
   "cell_type": "markdown",
   "metadata": {},
   "source": [
    "## Task 3 - From fixed-strain to fixed-stress\n",
    "\n",
    "We start with a copy of the fixed-strain split from above. Check out the section with \"NEW\". Almost all ingredients for the fixed-stress split are provided. Modify the code and build your fixed-stress split."
   ]
  },
  {
   "cell_type": "markdown",
   "metadata": {},
   "source": [
    "$\\textit{Advanced - can be ignored at the first read:}$\n",
    "We define Anderson acceleration to potentially accelerate the convergence. To recall, it works similar to GMRES and reuses previous iterations when updating the next iteration in the context of iterative solvers. It works in a postprocessor fashion and is activated after each iteration of an iterative solver. By choosing $\\texttt{aa_depth}$ one can define how many previous iterates are used. The choice $\\texttt{aa_depth}=0$ deactives Anderson acceleration. This will be subject of a later task."
   ]
  },
  {
   "cell_type": "code",
   "execution_count": 26,
   "metadata": {},
   "outputs": [
    {
     "name": "stdout",
     "output_type": "stream",
     "text": [
      "+=====================================+\n",
      "Time step 1:\n"
     ]
    },
    {
     "name": "stderr",
     "output_type": "stream",
     "text": [
      "/home/jakub/anaconda3/lib/python3.7/site-packages/scipy/sparse/linalg/dsolve/linsolve.py:318: SparseEfficiencyWarning: splu requires CSC matrix format\n",
      "  warn('splu requires CSC matrix format', SparseEfficiencyWarning)\n"
     ]
    },
    {
     "name": "stdout",
     "output_type": "stream",
     "text": [
      "Iter. 1 | Residual 79057.50171297793\n",
      "Iter. 2 | Residual 91989.13750813385\n",
      "Iter. 3 | Residual 151233.98743769364\n",
      "Iter. 4 | Residual 9656.22148133375\n",
      "Iter. 5 | Residual 1854.5908042316144\n",
      "Iter. 6 | Residual 328.012733309489\n",
      "Iter. 7 | Residual 97.43422108354449\n",
      "Iter. 8 | Residual 29.3442607849402\n",
      "Iter. 9 | Residual 9.572247591645738\n",
      "Iter. 10 | Residual 2.288205148970342\n",
      "Iter. 11 | Residual 0.48915823975051154\n",
      "Iter. 12 | Residual 0.21622129919531233\n",
      "Iter. 13 | Residual 0.06419306419156871\n",
      "Iter. 14 | Residual 0.021460372778235735\n",
      "Iter. 15 | Residual 0.008026052872567682\n",
      "Iter. 16 | Residual 0.0028095138439083443\n",
      "Iter. 17 | Residual 0.001296738432632207\n",
      "Iter. 18 | Residual 0.0004354607431580531\n",
      "Iter. 19 | Residual 0.00010795820432027183\n",
      "Iter. 20 | Residual 5.2656919379144516e-05\n",
      "Iter. 21 | Residual 2.0615319486814786e-05\n",
      "Iter. 22 | Residual 8.067855590277947e-06\n",
      "Iter. 23 | Residual 3.4714605710474884e-06\n",
      "Iter. 24 | Residual 1.1434017494294248e-06\n",
      "Iter. 25 | Residual 5.516918746494003e-07\n",
      "+=====================================+\n",
      "\n",
      "+=====================================+\n",
      "Time step 2:\n",
      "Iter. 1 | Residual 3125.7984410284607\n",
      "Iter. 2 | Residual 1339.5746051185854\n",
      "Iter. 3 | Residual 1097.8735243899116\n",
      "Iter. 4 | Residual 164.42020205513242\n",
      "Iter. 5 | Residual 34.42930287700096\n",
      "Iter. 6 | Residual 9.119242053117457\n",
      "Iter. 7 | Residual 2.148751979288699\n",
      "Iter. 8 | Residual 0.5303957772574391\n",
      "Iter. 9 | Residual 0.2622352605087516\n",
      "Iter. 10 | Residual 0.06487122008446919\n",
      "Iter. 11 | Residual 0.018346171140551044\n",
      "Iter. 12 | Residual 0.00670491529187912\n",
      "Iter. 13 | Residual 0.003158305137161237\n",
      "Iter. 14 | Residual 0.0012692562093947275\n",
      "Iter. 15 | Residual 0.0004251592730944809\n",
      "Iter. 16 | Residual 0.0001159458478775275\n",
      "Iter. 17 | Residual 6.51643022922201e-05\n",
      "Iter. 18 | Residual 2.268803437723851e-05\n",
      "Iter. 19 | Residual 7.674910621817824e-06\n",
      "Iter. 20 | Residual 3.180941047532671e-06\n",
      "Iter. 21 | Residual 1.481940097052355e-06\n",
      "Iter. 22 | Residual 6.387996607468663e-07\n",
      "+=====================================+\n",
      "\n",
      "+=====================================+\n",
      "Time step 3:\n",
      "Iter. 1 | Residual 2476.684335653449\n",
      "Iter. 2 | Residual 1167.5825356417397\n",
      "Iter. 3 | Residual 988.1941779263351\n",
      "Iter. 4 | Residual 145.55856754659317\n",
      "Iter. 5 | Residual 29.95096447087957\n",
      "Iter. 6 | Residual 7.649990336986717\n",
      "Iter. 7 | Residual 1.7785803035135779\n",
      "Iter. 8 | Residual 0.4336280264510262\n",
      "Iter. 9 | Residual 0.2207181124885103\n",
      "Iter. 10 | Residual 0.05385875067884359\n",
      "Iter. 11 | Residual 0.014786157717361373\n",
      "Iter. 12 | Residual 0.0054265560845453845\n",
      "Iter. 13 | Residual 0.002606898796861486\n",
      "Iter. 14 | Residual 0.0010453292032463943\n",
      "Iter. 15 | Residual 0.0003454445700999506\n",
      "Iter. 16 | Residual 9.127759481122542e-05\n",
      "Iter. 17 | Residual 5.190827934359559e-05\n",
      "Iter. 18 | Residual 1.8244082355052506e-05\n",
      "Iter. 19 | Residual 6.013252701093931e-06\n",
      "Iter. 20 | Residual 2.462567495209359e-06\n",
      "Iter. 21 | Residual 1.1696947908298436e-06\n",
      "Iter. 22 | Residual 5.107598727875228e-07\n",
      "+=====================================+\n",
      "\n",
      "+=====================================+\n",
      "Time step 4:\n",
      "Iter. 1 | Residual 2015.600695837428\n",
      "Iter. 2 | Residual 1035.5943781715084\n",
      "Iter. 3 | Residual 903.4878958968814\n",
      "Iter. 4 | Residual 130.74435075190382\n",
      "Iter. 5 | Residual 26.462235967011907\n",
      "Iter. 6 | Residual 6.523734402847471\n",
      "Iter. 7 | Residual 1.4947404293061215\n",
      "Iter. 8 | Residual 0.35960387814804795\n",
      "Iter. 9 | Residual 0.1885169920688229\n",
      "Iter. 10 | Residual 0.04546624868208734\n",
      "Iter. 11 | Residual 0.012112347147512666\n",
      "Iter. 12 | Residual 0.004439457156994919\n",
      "Iter. 13 | Residual 0.0021744691138866424\n",
      "Iter. 14 | Residual 0.0008723836443579884\n",
      "Iter. 15 | Residual 0.00028409881564443095\n",
      "Iter. 16 | Residual 7.281109020218489e-05\n",
      "Iter. 17 | Residual 4.181442647828265e-05\n",
      "Iter. 18 | Residual 1.486337407146548e-05\n",
      "Iter. 19 | Residual 4.77812416577716e-06\n",
      "Iter. 20 | Residual 1.919700697471538e-06\n",
      "Iter. 21 | Residual 9.297089317287025e-07\n",
      "+=====================================+\n",
      "\n"
     ]
    }
   ],
   "source": [
    "# Update some of the parameters\n",
    "model_params[\"aa_depth\"] = 5\n",
    "model_params[\"mesh_resolution\"] = 80\n",
    "model_params[\"fixed_stress_L\"] = 0\n",
    "model_params[\"s0\"] = 0.5e-8\n",
    "\n",
    "# Reset the model\n",
    "model = FootingProblem(model_params)\n",
    "model.prepare_simulation()\n",
    "first_call = True\n",
    "time_step = 0\n",
    "num_dofs = model.num_dofs()\n",
    "increment = np.zeros(num_dofs)\n",
    "residual = np.zeros(num_dofs)\n",
    "\n",
    "# Anderson acceleration\n",
    "from porepy.numerics.solvers.andersonacceleration import AndersonAcceleration\n",
    "depth = model_params[\"aa_depth\"]\n",
    "aa = AndersonAcceleration(num_dofs, depth)\n",
    "\n",
    "while model.time < model.end_time:\n",
    "    # Time management\n",
    "    time_step += 1\n",
    "    model.time += model.time_step\n",
    "\n",
    "    print(f\"+=====================================+\\nTime step {time_step}:\") \n",
    "\n",
    "    # Reset Anderson acceleration\n",
    "    aa.reset()\n",
    "\n",
    "    # Newton loop\n",
    "    model.before_newton_loop()\n",
    "    while model.convergence_status == False:\n",
    "\n",
    "        # Empty method, but include for completeness\n",
    "        model.before_newton_iteration()\n",
    "\n",
    "        ###########################################################\n",
    "        \n",
    "        # Splitting:\n",
    "        \n",
    "        # Set up the Jacobians of the two subproblems and factorize\n",
    "        # them - only in the first iteration.\n",
    "        if first_call:\n",
    "            A, _ = model.assemble_linear_mechanics_system()\n",
    "            C, _ = model.assemble_linear_flow_system()\n",
    "            \n",
    "            # NEW - TODO setup the stabilization!\n",
    "            #mass_mat = model.pressure_mass_matrix()\n",
    "            #alpha = model_params[\"alpha\"]\n",
    "            # TODO: Kdr = ... # This has been defined at other places in this notebook.\n",
    "            #L = model_params[\"fixed_stress_L\"]\n",
    "            # TODO: fixed-stress stabilization? S = ...\n",
    "            # TODO: How is S incorporated in the rest of the splitting scheme? \n",
    "\n",
    "            A_splu = sps.linalg.splu(A)\n",
    "            C_splu = sps.linalg.splu(C + S)\n",
    "            first_call = False\n",
    "        \n",
    "        # Require global dof number to address u and p separately\n",
    "        u_dofs = model.displacement_dofs()\n",
    "        p_dofs = model.pressure_dofs()\n",
    "\n",
    "        # 1. Step: Solve the flow problem for given displacement\n",
    "        _, residual[p_dofs] = model.assemble_linear_flow_system()\n",
    "        increment[p_dofs] = C_splu.solve(residual[p_dofs])\n",
    "        model.distribute_solution(increment, variables=[\"p\"])\n",
    "        \n",
    "        # 2. Step: Solve the mechanics problem for updated pressre\n",
    "        _, residual[u_dofs] = model.assemble_linear_mechanics_system()\n",
    "        increment[u_dofs] = A_splu.solve(residual[u_dofs])\n",
    "        model.distribute_solution(increment, variables=[\"u\"])\n",
    "        \n",
    "        ###########################################################\n",
    "\n",
    "        # Anderson acceleration (details can be ignored)\n",
    "        if model.nonlinear_iteration() > 0:\n",
    "            gk = model.dof_manager.assemble_variable(from_iterate=True)\n",
    "            fk = increment\n",
    "            improved_approximation = aa.apply(gk, fk, model.nonlinear_iteration()-1)\n",
    "            model.distribute_solution(improved_approximation, overwrite=True)\n",
    "\n",
    "        ###########################################################\n",
    "        \n",
    "        # Manage the iteration (accumulate to determine the solution),\n",
    "        # and monitor convergence. Stop, if residual is below tolerance\n",
    "        is_converged = model.after_newton_iteration(increment, residual, tol=1e-6)\n",
    "        \n",
    "        # Export solution\n",
    "        if is_converged:\n",
    "            model.after_newton_convergence()\n",
    "            model.export(time_step)\n",
    "\n",
    "    print(f\"+=====================================+\\n\")"
   ]
  },
  {
   "cell_type": "markdown",
   "metadata": {},
   "source": [
    "## Task 2 again - Unconditional robustness of the fixed-stress split\n",
    "Revisit Task 2, but now for the fixed-stress split."
   ]
  },
  {
   "cell_type": "markdown",
   "metadata": {},
   "source": [
    "## Task 4 - Mesh independent convergence\n",
    "Keep all material parameters fixed, and investigate how the number of iteration evolves when changing the mesh size via $\\texttt{model_params[\"mesh_resolution\"]}$. Choose for instance resolutions of 40 and 160. Verify that the convergence behavior of the fixed-stress split is independent of the mesh size."
   ]
  },
  {
   "cell_type": "markdown",
   "metadata": {},
   "source": [
    "## Task 5 - Accelerate convergence by turning on Anderson acceleration.\n",
    "Increase the depth of the Anderson acceleration via $\\texttt{model_params[\"aa_depth\"]}$. Typical values for the depath are 1, 5 or 10. Also try $L=0$ equivalent with the fixed-strain split. Does the scheme converge even when $\\tau>1$? How far can you push it?"
   ]
  },
  {
   "cell_type": "markdown",
   "metadata": {},
   "source": []
  }
 ],
 "metadata": {
  "kernelspec": {
   "display_name": "Python 3",
   "language": "python",
   "name": "python3"
  },
  "language_info": {
   "codemirror_mode": {
    "name": "ipython",
    "version": 3
   },
   "file_extension": ".py",
   "mimetype": "text/x-python",
   "name": "python",
   "nbconvert_exporter": "python",
   "pygments_lexer": "ipython3",
   "version": "3.7.4"
  }
 },
 "nbformat": 4,
 "nbformat_minor": 2
}
